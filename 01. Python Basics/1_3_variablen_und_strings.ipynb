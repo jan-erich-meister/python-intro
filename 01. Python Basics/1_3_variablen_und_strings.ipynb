{
 "cells": [
  {
   "attachments": {},
   "cell_type": "markdown",
   "metadata": {
    "collapsed": false
   },
   "source": [
    "# Variablen\n",
    "## Was sind Variablen?\n",
    "Wäre es nicht praktisch, wenn man all die Ausgaben der vorigen Lektion (also z.B. 4+2) auch zwischenspeichern kann?\n",
    "\n",
    "=> Hierfür gibt es Variablen.\n",
    "=> Sie können Zahlen, Texte, aber z.B. auch eine Liste oder Bilder speichern.\n",
    "=> Speichert man einen Wert in einer Variablen, dann sagt man auch \"Man weist einer Variablen einen Wert zu\".\n",
    "=> Links steht immer die Variable.\n",
    "<br>\n",
    "<img src=\"../img/variable.png\" width=\"60%\">\n",
    "<br>\n",
    "### Aufgabe\n",
    "Probieren Sie es gleich aus!\n",
    "=> Erstellen Sie eine Variable mit Namen \"ergebnis\" und weisen Sie ihr den Wert 10 geteilt durch 5 zu.\n",
    "=> Warum wird nichts ausgegeben?\n",
    "=> Geben Sie dann den Wert der Variable in der Konsole an!"
   ]
  },
  {
   "cell_type": "code",
   "execution_count": 2,
   "metadata": {
    "collapsed": false
   },
   "outputs": [],
   "source": [
    "# Erstellen Sie eine Variable mit Namen \"ergebnis\" und weisen Sie ihr den Wert 10 geteilt durch 5 zu.\n",
    "ergebnis = 10/5\n"
   ]
  },
  {
   "cell_type": "code",
   "execution_count": 3,
   "metadata": {
    "collapsed": false
   },
   "outputs": [
    {
     "name": "stdout",
     "output_type": "stream",
     "text": [
      "2.0\n"
     ]
    }
   ],
   "source": [
    "# Zeigen Sie nun den berechneten Wert in der Konsole an!\n",
    "print(ergebnis)\n"
   ]
  },
  {
   "attachments": {},
   "cell_type": "markdown",
   "metadata": {
    "collapsed": false
   },
   "source": [
    "## Benennung von Variablen\n",
    "\n",
    "Für die Benennung von Variablen gelten strenge Regeln.\n",
    "Der Name einer Variablen wird auch \"Bezeichner\" (engl.: identifier) genannt.\n",
    "\n",
    "* Bezeichner können keine Schlüsselwörter sein.\n",
    "* Bei Bezeichnern wird zwischen Groß- und Kleinschreibung unterschieden.\n",
    "* Bezeichner können aus einer Folge von Buchstaben und Ziffern bestehen. Er muss jedoch mit einem Buchstaben oder _ beginnen. Der erste Buchstabe eines Bezeichners kann keine Ziffer sein.\n",
    "* Es ist eine Konvention, einen Bezeichner mit einem Buchstaben und nicht mit _ zu beginnen.\n",
    "* Leerzeichen sind nicht erlaubt.\n",
    "* Sonderzeichen wie !, @, #, $ usw. dürfen nicht verwendet werden.\n",
    "\n",
    "<img src=\"../img/bezeichner.png\" width=\"40%\">\n",
    "\n",
    "=> Sehen Sie sich den nachfolgenden Code an. Warum funktioniert er nicht?"
   ]
  },
  {
   "cell_type": "code",
   "execution_count": 5,
   "metadata": {
    "collapsed": false
   },
   "outputs": [
    {
     "name": "stdout",
     "output_type": "stream",
     "text": [
      "8\n"
     ]
    }
   ],
   "source": [
    "# Sehen Sie sich den nachfolgenden Code an. Warum funktioniert er nicht?\n",
    "ergebnis = 4 * 2\n",
    "print(ergebnis)"
   ]
  },
  {
   "attachments": {},
   "cell_type": "markdown",
   "metadata": {
    "collapsed": false
   },
   "source": [
    "## Stilvolle Bezeichner\n",
    "\n",
    "Es gibt einige Konventionen für Bezeichner.\n",
    "=> Die wichtigste ist der sogenannte snake_case.\n",
    "=> hierbei wird alles klein geschrieben und durh Unterstriche verbunden.\n",
    "\n",
    "<img src=\"../img/snake_case.png\" width=\"50%\">"
   ]
  },
  {
   "attachments": {},
   "cell_type": "markdown",
   "metadata": {
    "collapsed": false
   },
   "source": [
    "## Mit Variablen Arbeiten\n",
    "\n",
    "Mit Variablen kann man nun arbeiten, wie wir das zuvor mit Zahlen oder Strings gemacht haben.\n"
   ]
  },
  {
   "cell_type": "code",
   "execution_count": 6,
   "metadata": {
    "collapsed": false
   },
   "outputs": [
    {
     "name": "stdout",
     "output_type": "stream",
     "text": [
      "3\n",
      "-1\n",
      "2\n",
      "0.5\n"
     ]
    }
   ],
   "source": [
    "# Betrachten Sie nachfolgenden Code, was wird ausgegeben?\n",
    "eins = 1\n",
    "zwei = 2\n",
    "print(eins + zwei)\n",
    "print(eins - zwei)\n",
    "print(eins * zwei)\n",
    "print(eins / zwei)"
   ]
  },
  {
   "cell_type": "code",
   "execution_count": 7,
   "metadata": {
    "collapsed": false
   },
   "outputs": [
    {
     "name": "stdout",
     "output_type": "stream",
     "text": [
      "AB\n",
      "AAA\n"
     ]
    }
   ],
   "source": [
    "# Betrachten Sie nachfolgenden Code, was wird ausgegeben?\n",
    "drei = 3\n",
    "a = \"A\"\n",
    "b = \"B\"\n",
    "print(a + b)\n",
    "print(drei * a)"
   ]
  },
  {
   "attachments": {},
   "cell_type": "markdown",
   "metadata": {
    "collapsed": false
   },
   "source": [
    "# Strings\n",
    "\n",
    "Texte werden in Programmiersprachen häufig als \"String\" (aus dem Englischen: \"Kette\") bezeichnet.\n",
    "\n",
    "Es geht also um Zeichenketten. Diese werden durch Anführungszeichen dargestellt."
   ]
  },
  {
   "attachments": {},
   "cell_type": "markdown",
   "metadata": {
    "collapsed": false
   },
   "source": [
    "## Anführungzeichen\n",
    "\n",
    "Python kenn einfache ' und doppelte \" Anführungszeichen.\n",
    "\n",
    "Beide sind erlaubt, um Strings (also Text) einzugeben.\n",
    "\n",
    "Soll ein Text Anführungszeichen enthalten, dann können Sie gemischt werden.\n",
    "\n",
    "Beispiel: \"Namen von Variablen werden auch 'Bezeichner' genannt.\"\n",
    "\n",
    "### Aufgabe\n",
    "\n",
    "=> Probieren Sie es aus und geben Sie den Text let's go aus."
   ]
  },
  {
   "cell_type": "code",
   "execution_count": 10,
   "metadata": {
    "collapsed": false
   },
   "outputs": [
    {
     "name": "stdout",
     "output_type": "stream",
     "text": [
      "let's go\n"
     ]
    }
   ],
   "source": [
    "# Probieren Sie es aus und geben Sie den Text let's go aus.\n",
    "print(\"let's go\")\n"
   ]
  },
  {
   "attachments": {},
   "cell_type": "markdown",
   "metadata": {
    "collapsed": false
   },
   "source": [
    "<img src=\"../img/string.png\" width=\"50%\">\n",
    "\n",
    "\n",
    "\n",
    "## Strings sind sogenannte Arrays\n",
    "\n",
    "Ein Array (engl.: Reihe, Sortiment) ist eine Möglichkeit, mehrere Werte in einer einzigen Variablen zu speichern.\n",
    "\n",
    "#### Hierbei wird von 0 beginnend gezählt.\n",
    "\n",
    "\n",
    "<img src=\"../img/text_array.png\" width=\"20%\">\n",
    "\n",
    "Das können wir selbst programmieren!"
   ]
  },
  {
   "cell_type": "code",
   "execution_count": 12,
   "metadata": {
    "collapsed": false
   },
   "outputs": [
    {
     "name": "stdout",
     "output_type": "stream",
     "text": [
      "M\n",
      "e\n",
      "i\n",
      "n\n",
      " \n",
      "T\n",
      "e\n",
      "x\n",
      "t\n"
     ]
    }
   ],
   "source": [
    "# Wir geben die Buchstaben eines Wortes als einzelne Zeichen aus:\n",
    "\n",
    "string_variable = \"Mein Text\"\n",
    "for i in string_variable:\n",
    "    print(i)"
   ]
  },
  {
   "attachments": {},
   "cell_type": "markdown",
   "metadata": {
    "collapsed": false
   },
   "source": [
    "Weil Strings Arrays sind, können wir auf jeden Buchstaben einzeln zugreifen:\n"
   ]
  },
  {
   "cell_type": "code",
   "execution_count": 13,
   "metadata": {
    "collapsed": false
   },
   "outputs": [
    {
     "name": "stdout",
     "output_type": "stream",
     "text": [
      "x\n"
     ]
    }
   ],
   "source": [
    "# Gib den achten Buchstaben aus:\n",
    "\n",
    "string_variable = \"Mein Text\"\n",
    "print(string_variable[7])"
   ]
  },
  {
   "attachments": {},
   "cell_type": "markdown",
   "metadata": {
    "collapsed": false
   },
   "source": [
    "### Aufgabe\n",
    "\n",
    "=> warum programmieren wir nicht print(string_variable[8])?\n",
    "=> Betrachten Sie nachfolgendes Beispiel. Warum scheitert der Code?"
   ]
  },
  {
   "cell_type": "code",
   "execution_count": 14,
   "metadata": {
    "collapsed": false
   },
   "outputs": [
    {
     "ename": "IndexError",
     "evalue": "string index out of range",
     "output_type": "error",
     "traceback": [
      "\u001b[31m---------------------------------------------------------------------------\u001b[39m",
      "\u001b[31mIndexError\u001b[39m                                Traceback (most recent call last)",
      "\u001b[36mCell\u001b[39m\u001b[36m \u001b[39m\u001b[32mIn[14]\u001b[39m\u001b[32m, line 4\u001b[39m\n\u001b[32m      1\u001b[39m \u001b[38;5;66;03m# Betrachten Sie nachfolgendes Beispiel. Warum scheitert der Code?\u001b[39;00m\n\u001b[32m      3\u001b[39m string_variable = \u001b[33m\"\u001b[39m\u001b[33mMein Text\u001b[39m\u001b[33m\"\u001b[39m\n\u001b[32m----> \u001b[39m\u001b[32m4\u001b[39m \u001b[38;5;28mprint\u001b[39m(\u001b[43mstring_variable\u001b[49m\u001b[43m[\u001b[49m\u001b[32;43m9\u001b[39;49m\u001b[43m]\u001b[49m)\n",
      "\u001b[31mIndexError\u001b[39m: string index out of range"
     ]
    }
   ],
   "source": [
    "# Betrachten Sie nachfolgendes Beispiel. Warum scheitert der Code?\n",
    "\n",
    "string_variable = \"Mein Text\"\n",
    "print(string_variable[9])"
   ]
  },
  {
   "cell_type": "code",
   "execution_count": 15,
   "metadata": {
    "collapsed": false
   },
   "outputs": [
    {
     "name": "stdout",
     "output_type": "stream",
     "text": [
      "9\n"
     ]
    }
   ],
   "source": [
    "# Wir können die Länge eines Textes berechnen\n",
    "\n",
    "string_variable = \"Mein Text\"\n",
    "print (len(string_variable))"
   ]
  },
  {
   "cell_type": "code",
   "execution_count": 21,
   "metadata": {
    "collapsed": false
   },
   "outputs": [
    {
     "name": "stdout",
     "output_type": "stream",
     "text": [
      "t\n"
     ]
    }
   ],
   "source": [
    "# Zugriff auf das letzte Zeichen eines Textes:\n",
    "\n",
    "string_variable = \"Mein Text\"\n",
    "print (string_variable[-1])"
   ]
  },
  {
   "cell_type": "code",
   "execution_count": 24,
   "metadata": {
    "collapsed": false
   },
   "outputs": [
    {
     "name": "stdout",
     "output_type": "stream",
     "text": [
      "Text\n",
      "Mein\n"
     ]
    }
   ],
   "source": [
    "# Zugriff auf einen Bereich von Zeichen eines Textes:\n",
    "\n",
    "string_variable = \"Mein Text\"\n",
    "print (string_variable[5:9])\n",
    "print (string_variable[-9:-5])"
   ]
  },
  {
   "cell_type": "code",
   "execution_count": 25,
   "metadata": {
    "collapsed": false
   },
   "outputs": [
    {
     "name": "stdout",
     "output_type": "stream",
     "text": [
      "txeT nieM\n"
     ]
    }
   ],
   "source": [
    "# Text rückwärts ausgeben\n",
    "\n",
    "print (string_variable[::-1])"
   ]
  },
  {
   "attachments": {},
   "cell_type": "markdown",
   "metadata": {
    "collapsed": false
   },
   "source": [
    "## String Funktionen\n",
    "\n",
    "Strings sind eigentlich Objekte. Objekte können nicht nur Werte speichern, sondern auch eigene Fähigkeiten haben.\n",
    "Hier einige Beispiele für Fähigkeiten (also Funktionen), die für String zur Verfügung stehen:\n"
   ]
  },
  {
   "cell_type": "code",
   "execution_count": 26,
   "metadata": {
    "collapsed": false
   },
   "outputs": [
    {
     "name": "stdout",
     "output_type": "stream",
     "text": [
      "Mein Text\n",
      "MEIN TEXT\n",
      "mein text\n",
      "Mein text\n"
     ]
    }
   ],
   "source": [
    "string_variable = \"Mein Text\"\n",
    "print(string_variable)\n",
    "print(string_variable.upper())\n",
    "print(string_variable.lower())\n",
    "print(string_variable.lower().capitalize())"
   ]
  },
  {
   "attachments": {},
   "cell_type": "markdown",
   "metadata": {
    "collapsed": false
   },
   "source": [
    "# Aufgaben"
   ]
  },
  {
   "cell_type": "code",
   "execution_count": 33,
   "metadata": {},
   "outputs": [
    {
     "name": "stdout",
     "output_type": "stream",
     "text": [
      "02:10\r"
     ]
    },
    {
     "ename": "KeyboardInterrupt",
     "evalue": "",
     "output_type": "error",
     "traceback": [
      "\u001b[31m---------------------------------------------------------------------------\u001b[39m",
      "\u001b[31mKeyboardInterrupt\u001b[39m                         Traceback (most recent call last)",
      "\u001b[36mCell\u001b[39m\u001b[36m \u001b[39m\u001b[32mIn[33]\u001b[39m\u001b[32m, line 13\u001b[39m\n\u001b[32m     10\u001b[39m     \u001b[38;5;28mprint\u001b[39m(\u001b[33m'\u001b[39m\u001b[33mTimer completed!\u001b[39m\u001b[33m'\u001b[39m)\n\u001b[32m     12\u001b[39m \u001b[38;5;66;03m# Start a countdown of 3 Minutes\u001b[39;00m\n\u001b[32m---> \u001b[39m\u001b[32m13\u001b[39m \u001b[43mcountdown\u001b[49m\u001b[43m(\u001b[49m\u001b[32;43m3\u001b[39;49m\u001b[43m \u001b[49m\u001b[43m*\u001b[49m\u001b[43m \u001b[49m\u001b[32;43m60\u001b[39;49m\u001b[43m)\u001b[49m\n",
      "\u001b[36mCell\u001b[39m\u001b[36m \u001b[39m\u001b[32mIn[33]\u001b[39m\u001b[32m, line 8\u001b[39m, in \u001b[36mcountdown\u001b[39m\u001b[34m(t)\u001b[39m\n\u001b[32m      6\u001b[39m     timer = \u001b[33m'\u001b[39m\u001b[38;5;132;01m{:02d}\u001b[39;00m\u001b[33m:\u001b[39m\u001b[38;5;132;01m{:02d}\u001b[39;00m\u001b[33m'\u001b[39m.format(mins, secs)\n\u001b[32m      7\u001b[39m     \u001b[38;5;28mprint\u001b[39m(timer, end=\u001b[33m\"\u001b[39m\u001b[38;5;130;01m\\r\u001b[39;00m\u001b[33m\"\u001b[39m)\n\u001b[32m----> \u001b[39m\u001b[32m8\u001b[39m     \u001b[43mtime\u001b[49m\u001b[43m.\u001b[49m\u001b[43msleep\u001b[49m\u001b[43m(\u001b[49m\u001b[43mstep_seconds\u001b[49m\u001b[43m)\u001b[49m\n\u001b[32m      9\u001b[39m     t -= step_seconds\n\u001b[32m     10\u001b[39m \u001b[38;5;28mprint\u001b[39m(\u001b[33m'\u001b[39m\u001b[33mTimer completed!\u001b[39m\u001b[33m'\u001b[39m)\n",
      "\u001b[31mKeyboardInterrupt\u001b[39m: "
     ]
    }
   ],
   "source": [
    "\n",
    "import time\n",
    "step_seconds = 5\n",
    "def countdown(t):\n",
    "    while t:\n",
    "        mins, secs = divmod(t, 60)\n",
    "        timer = '{:02d}:{:02d}'.format(mins, secs)\n",
    "        print(timer, end=\"\\r\")\n",
    "        time.sleep(step_seconds)\n",
    "        t -= step_seconds\n",
    "    print('Timer completed!')\n",
    "\n",
    "# Start a countdown of 3 Minutes\n",
    "countdown(3 * 60)"
   ]
  },
  {
   "cell_type": "code",
   "execution_count": null,
   "metadata": {
    "collapsed": false
   },
   "outputs": [],
   "source": [
    "# Speichern Sie den Text \"Python forever\" in einer variablen\n",
    "var = \"Python forever\"\n"
   ]
  },
  {
   "cell_type": "code",
   "execution_count": 30,
   "metadata": {
    "collapsed": false
   },
   "outputs": [
    {
     "name": "stdout",
     "output_type": "stream",
     "text": [
      "r\n"
     ]
    }
   ],
   "source": [
    "# Geben Sie das letzte Zeichen des Textes aus\n",
    "var = \"Python forever\"\n",
    "print(var[-1])\n"
   ]
  },
  {
   "cell_type": "code",
   "execution_count": 32,
   "metadata": {
    "collapsed": false
   },
   "outputs": [
    {
     "name": "stdout",
     "output_type": "stream",
     "text": [
      "python forever\n"
     ]
    }
   ],
   "source": [
    "# Wandeln Sie den Text in Kleinschreibung um\n",
    "var = \"Python forever\"\n",
    "print(var.lower())\n"
   ]
  },
  {
   "cell_type": "code",
   "execution_count": 34,
   "metadata": {
    "collapsed": false
   },
   "outputs": [
    {
     "name": "stdout",
     "output_type": "stream",
     "text": [
      "AB\n"
     ]
    }
   ],
   "source": [
    "# Verwenden Sie zwei Variablen, um deren Produkt auszugeben\n",
    "var_1 = \"A\"\n",
    "var_2 = \"B\"\n",
    "print(var_1 + var_2)"
   ]
  },
  {
   "cell_type": "code",
   "execution_count": 1,
   "metadata": {
    "collapsed": false
   },
   "outputs": [
    {
     "name": "stdout",
     "output_type": "stream",
     "text": [
      "PythonPythonPythonPythonPythonPythonPythonPythonPythonPythonPythonPythonPythonPythonPythonPythonPythonPythonPythonPythonPythonPythonPythonPythonPythonPythonPythonPythonPythonPythonPythonPythonPythonPythonPythonPythonPythonPythonPythonPythonPythonPythonPythonPythonPythonPythonPythonPythonPythonPython\n"
     ]
    }
   ],
   "source": [
    "# Geben Sie 50 mal den Text \"Python\" aus.\n",
    "print(50 * \"Python\")"
   ]
  },
  {
   "cell_type": "code",
   "execution_count": null,
   "metadata": {},
   "outputs": [],
   "source": []
  },
  {
   "cell_type": "code",
   "execution_count": 4,
   "metadata": {
    "collapsed": false
   },
   "outputs": [
    {
     "name": "stdout",
     "output_type": "stream",
     "text": [
      "forever\n"
     ]
    }
   ],
   "source": [
    "# Geben Sie die Zeichen 8 bis 14 des Textes aus\n",
    "var = \"Python forever\"\n",
    "print(var[7:14])\n"
   ]
  },
  {
   "cell_type": "code",
   "execution_count": null,
   "metadata": {
    "collapsed": false
   },
   "outputs": [],
   "source": []
  }
 ],
 "metadata": {
  "kernelspec": {
   "display_name": "Python 3",
   "language": "python",
   "name": "python3"
  },
  "language_info": {
   "codemirror_mode": {
    "name": "ipython",
    "version": 3
   },
   "file_extension": ".py",
   "mimetype": "text/x-python",
   "name": "python",
   "nbconvert_exporter": "python",
   "pygments_lexer": "ipython3",
   "version": "3.12.1"
  }
 },
 "nbformat": 4,
 "nbformat_minor": 0
}
