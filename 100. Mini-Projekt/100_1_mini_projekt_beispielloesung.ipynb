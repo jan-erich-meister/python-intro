{
 "cells": [
  {
   "cell_type": "markdown",
   "metadata": {
    "collapsed": false
   },
   "source": [
    "# Mini-Projekt\n",
    "\n",
    "Dies ist eine kleine Aufgabe, die Sie im Team lösen sollen.\n",
    "\n",
    "Schreiben Sie ein Programm, das Empfehlungen für Freizeitbeschäftigungen macht.\n",
    "\n",
    "=> Erstellen Sie hierfür eine Funktion 'empfehlung'\n",
    "=> Die Funktion hat zwei Parameter 'name' und 'alter\n",
    "=> Je nach Alter sollen Empfehlungen ausgegeben werden:\n",
    "\n",
    "* 0..6: \"<name>, du bist noch zu jung.\"\n",
    "* 7..18: \"<name>, du könntest ins Kino gehen.\"\n",
    "* 18..60: \"<name>, du könntest Sport machen, das ist gesund.\"\n",
    "* größer 60: \"<name>, 'du könntest dich mit deiner Nachbarin zum Tee treffen.'\"\n",
    "\n",
    "\n",
    "(Hierbei soll anstelle von <name> der per Parameter übergebene Name ausgegeben werden.)\n",
    "\n",
    "=> Benutzen Sie die Funktion und geben Sie für zwei Altersgruppen ein Beispiel aus.\n",
    "\n",
    "=> Sie können optional den Sonderfall abfangen, wenn das Alter kleiner ist als 0. Hierfür können Sie z.B. die Funktion 'raise Exception ('Text') benutzen.\n"
   ]
  },
  {
   "cell_type": "code",
   "execution_count": 3,
   "metadata": {
    "collapsed": false
   },
   "outputs": [
    {
     "name": "stdout",
     "output_type": "stream",
     "text": [
      "Ben, du bist noch zu jung.\n",
      "Lisa, du könntest ins Kino gehen.\n",
      "Karl, du könntest Sport machen, das ist gesund.\n",
      "Inge, du könntest dich mit deiner Nachbarin zum Tee treffen.\n"
     ]
    },
    {
     "ename": "Exception",
     "evalue": "Alter < 0 ist nicht erlaubt.",
     "output_type": "error",
     "traceback": [
      "\u001b[31m---------------------------------------------------------------------------\u001b[39m",
      "\u001b[31mException\u001b[39m                                 Traceback (most recent call last)",
      "\u001b[36mCell\u001b[39m\u001b[36m \u001b[39m\u001b[32mIn[3]\u001b[39m\u001b[32m, line 22\u001b[39m\n\u001b[32m     20\u001b[39m \u001b[38;5;28mprint\u001b[39m (empfehlung(\u001b[33m'\u001b[39m\u001b[33mKarl\u001b[39m\u001b[33m'\u001b[39m, \u001b[32m45\u001b[39m))\n\u001b[32m     21\u001b[39m \u001b[38;5;28mprint\u001b[39m (empfehlung(\u001b[33m'\u001b[39m\u001b[33mInge\u001b[39m\u001b[33m'\u001b[39m, \u001b[32m99\u001b[39m))\n\u001b[32m---> \u001b[39m\u001b[32m22\u001b[39m \u001b[38;5;28mprint\u001b[39m (\u001b[43mempfehlung\u001b[49m\u001b[43m(\u001b[49m\u001b[33;43m'\u001b[39;49m\u001b[33;43mJosy\u001b[39;49m\u001b[33;43m'\u001b[39;49m\u001b[43m,\u001b[49m\u001b[43m \u001b[49m\u001b[43m-\u001b[49m\u001b[32;43m1\u001b[39;49m\u001b[43m)\u001b[49m)\n",
      "\u001b[36mCell\u001b[39m\u001b[36m \u001b[39m\u001b[32mIn[3]\u001b[39m\u001b[32m, line 16\u001b[39m, in \u001b[36mempfehlung\u001b[39m\u001b[34m(name, alter)\u001b[39m\n\u001b[32m     14\u001b[39m     \u001b[38;5;28;01mreturn\u001b[39;00m merge (name, \u001b[33m'\u001b[39m\u001b[33mdu könntest dich mit deiner Nachbarin zum Tee treffen.\u001b[39m\u001b[33m'\u001b[39m)\n\u001b[32m     15\u001b[39m \u001b[38;5;28;01melse\u001b[39;00m:\n\u001b[32m---> \u001b[39m\u001b[32m16\u001b[39m     \u001b[38;5;28;01mraise\u001b[39;00m \u001b[38;5;167;01mException\u001b[39;00m(\u001b[33m'\u001b[39m\u001b[33mAlter < 0 ist nicht erlaubt.\u001b[39m\u001b[33m'\u001b[39m)\n",
      "\u001b[31mException\u001b[39m: Alter < 0 ist nicht erlaubt."
     ]
    }
   ],
   "source": [
    "# Mini Projekt Beispiel-Lösung\n",
    "\n",
    "def merge (name, satz):\n",
    "    return name + \", \" + satz\n",
    "\n",
    "def empfehlung (name, alter):\n",
    "    if 0 < alter <= 6:\n",
    "        return merge (name, 'du bist noch zu jung.')\n",
    "    elif 6 < alter <= 18:\n",
    "        return merge (name, 'du könntest ins Kino gehen.')\n",
    "    elif 18 < alter <= 60:\n",
    "        return merge (name, 'du könntest Sport machen, das ist gesund.')\n",
    "    elif alter > 60:\n",
    "        return merge (name, 'du könntest dich mit deiner Nachbarin zum Tee treffen.')\n",
    "    else:\n",
    "        raise Exception('Alter < 0 ist nicht erlaubt.')\n",
    "\n",
    "print (empfehlung('Ben', 5))\n",
    "print (empfehlung('Lisa', 18))\n",
    "print (empfehlung('Karl', 45))\n",
    "print (empfehlung('Inge', 99))\n",
    "print (empfehlung('Josy', -1))\n"
   ]
  },
  {
   "cell_type": "code",
   "execution_count": null,
   "metadata": {
    "collapsed": false
   },
   "outputs": [],
   "source": []
  }
 ],
 "metadata": {
  "kernelspec": {
   "display_name": "Python 3",
   "language": "python",
   "name": "python3"
  },
  "language_info": {
   "codemirror_mode": {
    "name": "ipython",
    "version": 3
   },
   "file_extension": ".py",
   "mimetype": "text/x-python",
   "name": "python",
   "nbconvert_exporter": "python",
   "pygments_lexer": "ipython3",
   "version": "3.12.1"
  }
 },
 "nbformat": 4,
 "nbformat_minor": 0
}
