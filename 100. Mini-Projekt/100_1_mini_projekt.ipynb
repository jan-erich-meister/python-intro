{
 "cells": [
  {
   "cell_type": "markdown",
   "metadata": {
    "collapsed": false
   },
   "source": [
    "# Mini-Projekt\n",
    "\n",
    "Dies ist eine kleine Aufgabe, die Sie im Team lösen sollen.\n",
    "\n",
    "Schreiben Sie ein Programm, das Empfehlungen für Freizeitbeschäftigungen macht.\n",
    "\n",
    "=> Erstellen Sie hierfür eine Funktion 'empfehlung'\n",
    "=> Die Funktion hat zwei Parameter 'name' und 'alter\n",
    "=> Je nach Alter sollen Empfehlungen ausgegeben werden:\n",
    "\n",
    "* 0..6: \"<name>, du bist noch zu jung.\"\n",
    "* 7..18: \"<name>, du könntest ins Kino gehen.\"\n",
    "* 18..60: \"<name>, du könntest Sport machen, das ist gesund.\"\n",
    "* größer 60: \"<name>, du könntest dich mit deiner Nachbarin zum Tee treffen.\"\n",
    "\n",
    "\n",
    "(Hierbei soll anstelle von <name> der per Parameter übergebene Name ausgegeben werden.)\n",
    "\n",
    "=> Benutzen Sie die Funktion und geben Sie für zwei Altersgruppen ein Beispiel aus.\n",
    "\n",
    "=> Sie können optional den Sonderfall abfangen, wenn das Alter kleiner ist als 0. Hierfür können Sie z.B. die Funktion ’raise Exception (‘Text’) benutzen.\n"
   ]
  },
  {
   "cell_type": "code",
   "execution_count": 11,
   "metadata": {
    "collapsed": false
   },
   "outputs": [
    {
     "name": "stdout",
     "output_type": "stream",
     "text": [
      "Artur, du bist noch zu jung.\n",
      "Hanna, du könntest ins Kino gehen.\n",
      "Katja, du könntest ins Kino gehen.\n",
      "Jan, du könntest Sport machen, das ist gesund.\n"
     ]
    },
    {
     "ename": "Exception",
     "evalue": "Du bist nicht mal geboren lol!",
     "output_type": "error",
     "traceback": [
      "\u001b[31m---------------------------------------------------------------------------\u001b[39m",
      "\u001b[31mException\u001b[39m                                 Traceback (most recent call last)",
      "\u001b[36mCell\u001b[39m\u001b[36m \u001b[39m\u001b[32mIn[11]\u001b[39m\u001b[32m, line 21\u001b[39m\n\u001b[32m     19\u001b[39m \u001b[38;5;28mprint\u001b[39m (altercheck(\u001b[33m'\u001b[39m\u001b[33mKatja\u001b[39m\u001b[33m'\u001b[39m, \u001b[32m18\u001b[39m))\n\u001b[32m     20\u001b[39m \u001b[38;5;28mprint\u001b[39m (altercheck(\u001b[33m'\u001b[39m\u001b[33mJan\u001b[39m\u001b[33m'\u001b[39m, \u001b[32m27\u001b[39m))\n\u001b[32m---> \u001b[39m\u001b[32m21\u001b[39m \u001b[38;5;28mprint\u001b[39m (\u001b[43maltercheck\u001b[49m\u001b[43m(\u001b[49m\u001b[33;43m'\u001b[39;49m\u001b[33;43mFisch\u001b[39;49m\u001b[33;43m'\u001b[39;49m\u001b[43m,\u001b[49m\u001b[43m \u001b[49m\u001b[43m-\u001b[49m\u001b[32;43m1\u001b[39;49m\u001b[43m)\u001b[49m)\n",
      "\u001b[36mCell\u001b[39m\u001b[36m \u001b[39m\u001b[32mIn[11]\u001b[39m\u001b[32m, line 15\u001b[39m, in \u001b[36maltercheck\u001b[39m\u001b[34m(name, age)\u001b[39m\n\u001b[32m     13\u001b[39m     \u001b[38;5;28;01mreturn\u001b[39;00m empfehlung (name, \u001b[33m\"\u001b[39m\u001b[33mdu könntest dich mit deiner Nachbarin zum Tee treffen\u001b[39m\u001b[33m\"\u001b[39m)\n\u001b[32m     14\u001b[39m \u001b[38;5;28;01melse\u001b[39;00m:\n\u001b[32m---> \u001b[39m\u001b[32m15\u001b[39m     \u001b[38;5;28;01mraise\u001b[39;00m \u001b[38;5;167;01mException\u001b[39;00m(\u001b[33m\"\u001b[39m\u001b[33mDu bist nicht mal geboren lol!\u001b[39m\u001b[33m\"\u001b[39m)\n",
      "\u001b[31mException\u001b[39m: Du bist nicht mal geboren lol!"
     ]
    }
   ],
   "source": [
    "# Mini Projekt Beispiel-Lösung\n",
    "def empfehlung(name, satz):\n",
    "    return name + \", \" + satz\n",
    "\n",
    "def altercheck(name, age):\n",
    "    if 0 < age <= 6:\n",
    "        return empfehlung (name, \"du bist noch zu jung.\")\n",
    "    elif 6 < age <= 18:\n",
    "        return empfehlung (name, \"du könntest ins Kino gehen.\")\n",
    "    elif 18 < age <= 60:\n",
    "        return empfehlung (name, \"du könntest Sport machen, das ist gesund.\")\n",
    "    elif age > 60:\n",
    "        return empfehlung (name, \"du könntest dich mit deiner Nachbarin zum Tee treffen\")\n",
    "    else:\n",
    "        raise Exception(\"Du bist nicht mal geboren lol!\")\n",
    "    \n",
    "print (altercheck('Artur', 4))\n",
    "print (altercheck('Hanna', 7))\n",
    "print (altercheck('Katja', 18))\n",
    "print (altercheck('Jan', 27))\n",
    "print (altercheck('Fisch', -1))"
   ]
  }
 ],
 "metadata": {
  "kernelspec": {
   "display_name": "Python 3",
   "language": "python",
   "name": "python3"
  },
  "language_info": {
   "codemirror_mode": {
    "name": "ipython",
    "version": 3
   },
   "file_extension": ".py",
   "mimetype": "text/x-python",
   "name": "python",
   "nbconvert_exporter": "python",
   "pygments_lexer": "ipython3",
   "version": "3.12.1"
  }
 },
 "nbformat": 4,
 "nbformat_minor": 0
}
