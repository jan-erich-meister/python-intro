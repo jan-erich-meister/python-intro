{
 "cells": [
  {
   "cell_type": "markdown",
   "metadata": {
    "collapsed": false
   },
   "source": [
    "# Arbeiten mit Listen\n",
    "\n",
    "Listen haben wir bereits kennengelernt. Sie sind in der Lage, mehrere Werte zu speichern.\n",
    "\n",
    "## Wiederholung:"
   ]
  },
  {
   "cell_type": "code",
   "execution_count": 1,
   "metadata": {
    "collapsed": false
   },
   "outputs": [
    {
     "name": "stdout",
     "output_type": "stream",
     "text": [
      "['Schnelleinstieg', 'Programmierung', 'mit', 'Python']\n"
     ]
    }
   ],
   "source": [
    "# Liste erstellen\n",
    "\n",
    "liste = ['Schnelleinstieg', 'Programmierung', 'mit', 'Python']\n",
    "print(liste)"
   ]
  },
  {
   "cell_type": "code",
   "execution_count": 2,
   "metadata": {
    "collapsed": false
   },
   "outputs": [
    {
     "name": "stdout",
     "output_type": "stream",
     "text": [
      "[]\n"
     ]
    }
   ],
   "source": [
    "# Listen können auch leer sein\n",
    "\n",
    "liste = []\n",
    "print(liste)"
   ]
  },
  {
   "cell_type": "code",
   "execution_count": 3,
   "metadata": {
    "collapsed": false
   },
   "outputs": [
    {
     "name": "stdout",
     "output_type": "stream",
     "text": [
      "['John', 'Doe', 23, True]\n"
     ]
    }
   ],
   "source": [
    "# Listen dürfen verschiedene Datentypen enthalten:\n",
    "\n",
    "liste = [\"John\", \"Doe\", 23, True]\n",
    "print(liste)"
   ]
  },
  {
   "cell_type": "code",
   "execution_count": 4,
   "metadata": {
    "collapsed": false
   },
   "outputs": [
    {
     "name": "stdout",
     "output_type": "stream",
     "text": [
      "Python\n"
     ]
    }
   ],
   "source": [
    "# Auf ein bestimmtes Listenelement zugreifen:\n",
    "\n",
    "liste = ['Schnelleinstieg', 'Programmierung', 'mit', 'Python']\n",
    "print(liste[3])"
   ]
  },
  {
   "cell_type": "markdown",
   "metadata": {
    "collapsed": false
   },
   "source": [
    "## Index beim Zugriff auf Listen\n",
    "\n",
    "Bei dem Zugriff auf Listenelemente mit Hilfe eines Index ist zu beachten, dass dieser immer Null-basiert ist, d.h. es wird bei 0 angefangen zu zählen:\n",
    "\n",
    "<img src=\"../img/zero_based.png\" width=\"70%\" align=\"center\">\n",
    "\n",
    "Hierbei kann auch \"von rechts\" mit Hilfe von negativen Zahlen gezählt werden.\n",
    "Hierbei ist allerdings der Erste Wert bereits -1 (die 0 ist ja schon vergeben)."
   ]
  },
  {
   "cell_type": "markdown",
   "metadata": {
    "collapsed": false
   },
   "source": [
    "### Slizing - Zugriff auf Teilbereiche einer Liste\n",
    "\n",
    "Beim Slizing kann man ausdrücklich angeben von welchem bis zu welchem Element eine Teil-Liste auslesen möchte."
   ]
  },
  {
   "cell_type": "code",
   "execution_count": 9,
   "metadata": {
    "collapsed": false
   },
   "outputs": [
    {
     "name": "stdout",
     "output_type": "stream",
     "text": [
      "['mit', 'Python']\n"
     ]
    }
   ],
   "source": [
    "# Ein Teilbereich einer Liste:\n",
    "\n",
    "liste = ['Schnelleinstieg', 'Programmierung', 'mit', 'Python']\n",
    "print(liste[2:4])"
   ]
  },
  {
   "cell_type": "markdown",
   "metadata": {
    "collapsed": false
   },
   "source": [
    "Beim Slizing ist der Wert vor dem Doppelpunkt ':' der erste Index von links (auch hier Null-basiert), der angibt, ab welchem Index der Teilbereich geladen werden soll.\n",
    "Der Wert nach dem Doppelpunkt ist der erste Index von links, der NICHT mehr enthalten sein soll.\n",
    "\n",
    "<img src=\"../img/slizeing.png\" width=\"70%\" align=\"center\">\n",
    "\n",
    "Das funktioniert auch von rechts ('rückwärts'):\n"
   ]
  },
  {
   "cell_type": "code",
   "execution_count": 7,
   "metadata": {
    "collapsed": false
   },
   "outputs": [
    {
     "name": "stdout",
     "output_type": "stream",
     "text": [
      "['Schnelleinstieg', 'Programmierung']\n"
     ]
    }
   ],
   "source": [
    "# Ein Teilbereich einer Liste:\n",
    "\n",
    "liste = ['Schnelleinstieg', 'Programmierung', 'mit', 'Python']\n",
    "print(liste[-4:-2])"
   ]
  },
  {
   "cell_type": "markdown",
   "metadata": {
    "collapsed": false
   },
   "source": [
    "## Die Länge einer Liste\n",
    "\n",
    "Die Funktion len() ermittelt die Anzahl der Elemente in einer Liste (also die Länge der Liste).\n"
   ]
  },
  {
   "cell_type": "code",
   "execution_count": 10,
   "metadata": {
    "collapsed": false
   },
   "outputs": [
    {
     "name": "stdout",
     "output_type": "stream",
     "text": [
      "4\n"
     ]
    }
   ],
   "source": [
    "# Die Länge einer Liste ermitteln\n",
    "\n",
    "liste = ['Schnelleinstieg', 'Programmierung', 'mit', 'Python']\n",
    "print(len(liste))"
   ]
  },
  {
   "cell_type": "markdown",
   "metadata": {
    "collapsed": false
   },
   "source": [
    "## Listen verändern\n",
    "\n",
    "### Ein Element zu einer Liste hinzufügen\n",
    "\n",
    "Der Befehl 'append' fügt einer Liste ein Element hinzu.\n",
    "Diese Funktion gehört direkt zur Variable (zum Objekt).\n",
    "Sie hat KEINEN Rückgabewert, sondern verändert die Liste DIREKT:\n"
   ]
  },
  {
   "cell_type": "code",
   "execution_count": 11,
   "metadata": {
    "collapsed": false
   },
   "outputs": [
    {
     "name": "stdout",
     "output_type": "stream",
     "text": [
      "[4, 9, 16, 25, 36, 49]\n"
     ]
    }
   ],
   "source": [
    "# Ein Element an eine Liste anhängen\n",
    "\n",
    "liste = [4, 9, 16, 25, 36]\n",
    "liste.append(49)\n",
    "print(liste)"
   ]
  },
  {
   "cell_type": "markdown",
   "metadata": {
    "collapsed": false
   },
   "source": [
    "Es kann auch eine ganze Liste zu einer anderen hinzugefügt werden.\n",
    "Dies erfolgt mit dem Befehl 'extend'"
   ]
  },
  {
   "cell_type": "code",
   "execution_count": null,
   "metadata": {
    "collapsed": false
   },
   "outputs": [
    {
     "name": "stdout",
     "output_type": "stream",
     "text": [
      "[4, 9, 16, 25, 58, 49, 64]\n"
     ]
    }
   ],
   "source": [
    "# Eine Liste an eine andere anhängen\n",
    "\n",
    "liste = [4, 9, 16, 25, 36]\n",
    "liste.extend([49, 64])\n",
    "print(liste)"
   ]
  },
  {
   "cell_type": "markdown",
   "metadata": {
    "collapsed": false
   },
   "source": [
    "### Ein einzelnes Element verändern\n",
    "\n",
    "Listenelement können direkt verändert werden, indem per Index [x] auf sie zugegriffen wird:"
   ]
  },
  {
   "cell_type": "code",
   "execution_count": 14,
   "metadata": {
    "collapsed": false
   },
   "outputs": [
    {
     "name": "stdout",
     "output_type": "stream",
     "text": [
      "[4, 9, 17, 25, 36]\n"
     ]
    }
   ],
   "source": [
    "# Ein Element einer Liste verändern.\n",
    "\n",
    "liste = [4, 9, 16, 25, 36]\n",
    "liste[2] = 17\n",
    "print(liste)"
   ]
  },
  {
   "cell_type": "markdown",
   "metadata": {
    "collapsed": false
   },
   "source": [
    "### Ein Element löschen\n",
    "\n",
    "Elemente können entweder über das Schlüsselwort 'del' oder über die 'remove' Funktion gelöscht werden.\n",
    "HINWEIS: Bei der Verwendung von 'remove' wird NICHT mit dem Index gearbeitet, sondern mit dem eigentlichen Wert innerhalb er Liste."
   ]
  },
  {
   "cell_type": "code",
   "execution_count": 15,
   "metadata": {
    "collapsed": false
   },
   "outputs": [
    {
     "name": "stdout",
     "output_type": "stream",
     "text": [
      "[4, 9, 25, 36]\n"
     ]
    }
   ],
   "source": [
    "# Eine Element anhand seines Index löschen.\n",
    "\n",
    "liste = [4, 9, 16, 25, 36]\n",
    "del liste[2]\n",
    "print(liste)"
   ]
  },
  {
   "cell_type": "code",
   "execution_count": 16,
   "metadata": {
    "collapsed": false
   },
   "outputs": [
    {
     "name": "stdout",
     "output_type": "stream",
     "text": [
      "[4, 9, 36]\n"
     ]
    }
   ],
   "source": [
    "# Das Löschen mit 'del' funktioniert auch mit Slizing\n",
    "\n",
    "liste = [4, 9, 16, 25, 36]\n",
    "del liste[2:4]\n",
    "print(liste)"
   ]
  },
  {
   "cell_type": "code",
   "execution_count": 17,
   "metadata": {
    "collapsed": false
   },
   "outputs": [
    {
     "name": "stdout",
     "output_type": "stream",
     "text": [
      "[4, 16, 25, 36]\n"
     ]
    }
   ],
   "source": [
    "# Ein Element anhand seines Wertes löschen\n",
    "\n",
    "liste = [4, 9, 16, 25, 36]\n",
    "liste.remove(9)\n",
    "print(liste)"
   ]
  },
  {
   "cell_type": "markdown",
   "metadata": {
    "collapsed": false
   },
   "source": [
    "## Zur Erinnerung - Schleifen 'über' Listen\n",
    "\n",
    "Mithilfe von for-Schleifen können alle Elemente einer Liste verarbeitet werden."
   ]
  },
  {
   "cell_type": "code",
   "execution_count": 18,
   "metadata": {
    "collapsed": false
   },
   "outputs": [
    {
     "name": "stdout",
     "output_type": "stream",
     "text": [
      "Schnelleinstieg\n",
      "Programmierung\n",
      "mit\n",
      "Python\n"
     ]
    }
   ],
   "source": [
    "## For Schleife über alle Elemente einer Liste\n",
    "\n",
    "liste = ['Schnelleinstieg', 'Programmierung', 'mit', 'Python']\n",
    "\n",
    "for txt in liste:\n",
    "    print(txt)\n"
   ]
  },
  {
   "cell_type": "markdown",
   "metadata": {
    "collapsed": false
   },
   "source": [
    "## Ausblick\n",
    "\n",
    "Es gibt noch viele weitere hilfreiche Funktionen für Listen.\n",
    "Beispiele finden Sie hier:\n",
    "[Weiterführende Informationen zu Listen](https://www.programiz.com/python-programming/list)"
   ]
  },
  {
   "cell_type": "code",
   "execution_count": null,
   "metadata": {
    "collapsed": false
   },
   "outputs": [],
   "source": []
  }
 ],
 "metadata": {
  "kernelspec": {
   "display_name": "Python 3",
   "language": "python",
   "name": "python3"
  },
  "language_info": {
   "codemirror_mode": {
    "name": "ipython",
    "version": 3
   },
   "file_extension": ".py",
   "mimetype": "text/x-python",
   "name": "python",
   "nbconvert_exporter": "python",
   "pygments_lexer": "ipython3",
   "version": "3.12.1"
  }
 },
 "nbformat": 4,
 "nbformat_minor": 0
}
