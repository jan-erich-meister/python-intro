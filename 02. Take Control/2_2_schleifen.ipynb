{
 "cells": [
  {
   "cell_type": "markdown",
   "metadata": {
    "collapsed": false
   },
   "source": [
    "# Take Control!\n",
    "## Schleifen\n",
    "\n",
    "Schleifen dienen in der Programmierung dazu, Dinge zu wiederholen.\n",
    "Hierfür gibt es zwei  Typen:\n",
    "\n",
    "- Die For-Schleife\n",
    "    Die For-Schleife wiederholt einen Code-Block für eine bestimmte Anzahl oder für bestimmte Elemente\n",
    "- Die While-Schleife\n",
    "    Die While-Schleife wiederholt einen Code-Block, solange eine Bedingung wahr ist.\n",
    "\n",
    "\n",
    "## Die For-Schleife\n",
    "\n",
    "<img src=\"../img/for_loop.png\" width=\"70%\" align=\"center\">"
   ]
  },
  {
   "cell_type": "markdown",
   "metadata": {
    "collapsed": false
   },
   "source": [
    "In For-Schleife ist dafür das, über eine Liste zu 'iterieren', d.h. es wird für jedes Element der Liste wird der Code-Block ausgeführt."
   ]
  },
  {
   "cell_type": "code",
   "execution_count": 3,
   "metadata": {
    "collapsed": false
   },
   "outputs": [
    {
     "name": "stdout",
     "output_type": "stream",
     "text": [
      "1\n",
      "2\n",
      "3\n",
      "Mich seht ihr immer!\n"
     ]
    }
   ],
   "source": [
    "# Python for-loop\n",
    "liste=[1,2,3]\n",
    "for loop_var in liste:\n",
    "\t# Ausführen für alle Elemente in liste\n",
    "\tprint(loop_var)\n",
    "\n",
    "# Hier geht’s ganz normal weiter...\n",
    "print('Mich seht ihr immer!')\n"
   ]
  },
  {
   "cell_type": "markdown",
   "metadata": {
    "collapsed": false
   },
   "source": [
    "### Aufgabe:\n",
    "Schreiben Sie eine for-Schleife, die die Wörter 'Mobile' und 'University' nacheinander ausgibt.\n",
    "Tipp: Sie können in der Variablen 'liste' auch eine Liste von Strings speichern.\n"
   ]
  },
  {
   "cell_type": "code",
   "execution_count": 5,
   "metadata": {
    "collapsed": false
   },
   "outputs": [
    {
     "name": "stdout",
     "output_type": "stream",
     "text": [
      "Mobile\n",
      "University\n"
     ]
    }
   ],
   "source": [
    "# Schreiben Sie eine for-Schleife, die die Wörter 'Mobile' und 'University' nacheinander ausgibt.\n",
    "# Tipp: Sie können in der Variablen 'liste' auch eine Liste von Strings speichern.\n",
    "var_1 = [\"Mobile\", \"University\"]\n",
    "\n",
    "for i in var_1:\n",
    "    print(i)\n"
   ]
  },
  {
   "cell_type": "markdown",
   "metadata": {
    "collapsed": false
   },
   "source": [
    "## Die For-Schleife über einen 'Range'\n",
    "\n",
    "Wenn die Liste nicht aus expliziten Elementen besteht, sondern man es mit einem Bereich zu tun hat, dann kann der sogenannte range() benutzt werden.\n",
    "range() ist eine Funktion, die\n",
    "- einen Anfangsparameter hat. Der erste Wert des Range entspricht diesem Wert.\n",
    "- einen Endeparameter hat. Der letzte Wert des Range ist KLEINER als dieser Wert.\n",
    "- einen optionalen Schritt-Parameter hat, der angibt, in welchen Abständen gezählt wird."
   ]
  },
  {
   "cell_type": "code",
   "execution_count": 9,
   "metadata": {
    "collapsed": false
   },
   "outputs": [
    {
     "name": "stdout",
     "output_type": "stream",
     "text": [
      "0\n",
      "2\n",
      "4\n",
      "6\n",
      "8\n",
      "10\n",
      "12\n",
      "14\n",
      "16\n",
      "18\n",
      "20\n",
      "22\n",
      "24\n",
      "26\n",
      "28\n",
      "30\n",
      "32\n",
      "34\n",
      "36\n",
      "38\n",
      "40\n",
      "42\n",
      "Mich seht ihr immer!\n"
     ]
    }
   ],
   "source": [
    "# For-Schleife mit Range: 'Alle geraden Zahlen zwischen 0 und 42\n",
    "for loop_var in range(0,43,2):\n",
    "\t# Ausführen für alle Elemente in range\n",
    "\tprint(loop_var)\n",
    "\n",
    "# Hier geht’s ganz normal weiter...\n",
    "print('Mich seht ihr immer!')\n"
   ]
  },
  {
   "cell_type": "markdown",
   "metadata": {
    "collapsed": false
   },
   "source": [
    "### Tipp:\n",
    "\n",
    "Range kann auch nur einen Parameter haben:\n",
    "range(5) -> dies entspricht range (0,5,1)"
   ]
  },
  {
   "cell_type": "markdown",
   "metadata": {
    "collapsed": false
   },
   "source": [
    "## Die While-Schleife\n",
    "\n",
    "Die While-Schleife dient dazu, etwas zu wiederholen, solange eine Bedingung wahr ist.\n",
    "\n",
    "<br>\n",
    "<img src=\"../img/while_loop.png\" width=\"70%\" align=\"center\">"
   ]
  },
  {
   "cell_type": "code",
   "execution_count": 10,
   "metadata": {
    "collapsed": false
   },
   "outputs": [
    {
     "name": "stdout",
     "output_type": "stream",
     "text": [
      "Summe ist jetzt:  10\n",
      "Summe ist jetzt:  20\n",
      "Summe ist jetzt:  30\n",
      "Summe ist jetzt:  40\n",
      "Summe ist jetzt:  50\n",
      "Summe ist jetzt:  60\n",
      "Summe ist jetzt:  70\n",
      "Summe ist jetzt:  80\n",
      "Summe ist jetzt:  90\n",
      "Summe ist jetzt:  100\n",
      "Geschafft. Die Bedingung ist jetzt NICHT MEHR wahr!\n"
     ]
    }
   ],
   "source": [
    "summe = 0\n",
    "while summe < 100:\n",
    "\t# Ausführen:\n",
    "\tsumme = summe + 10\n",
    "\tprint('Summe ist jetzt: ', summe)\n",
    "\n",
    "# Hier geht’s ganz normal weiter...\n",
    "print('Geschafft. Die Bedingung ist jetzt NICHT MEHR wahr!')"
   ]
  },
  {
   "cell_type": "markdown",
   "metadata": {
    "collapsed": false
   },
   "source": [
    "### WICHTIGER Hinweis - Die Endlosschleife\n",
    "Die While-Schleife kann zu Endlosschleifen führen.\n",
    "\n",
    "=> Warum?"
   ]
  },
  {
   "cell_type": "code",
   "execution_count": null,
   "metadata": {
    "collapsed": false
   },
   "outputs": [],
   "source": [
    "# Dies ist (fast) eine Endlosschleife - Zum Glück endet sie doch bei -1000...\n",
    "summe = 0\n",
    "while summe < 100:\n",
    "\t# Ausführen:\n",
    "\tsumme = summe - 10\n",
    "\tprint('Summe ist jetzt: ', summe)\n",
    "\tif summe < -1000:\n",
    "\t\traise Exception(\"Entschuldigung. Endlosschleifen sind endlos.\")\n",
    "\n",
    "# Hier geht’s ganz normal weiter...\n",
    "print('Mich werdet ihr nie sehen!')"
   ]
  },
  {
   "cell_type": "code",
   "execution_count": 13,
   "metadata": {
    "collapsed": false
   },
   "outputs": [
    {
     "name": "stdout",
     "output_type": "stream",
     "text": [
      "Die gerade Zahl lautet = 4\n"
     ]
    }
   ],
   "source": [
    "# Programm, das auf die Eingabe einer geraden Zahl wartet...\n",
    "zahl = int(input('Geben Sie eine gerade Zahl ein: '))\n",
    "\n",
    "# Zahlen addieren, bis Zahl Null ist\n",
    "while zahl % 2 != 0:\n",
    "    meldung = 'Entschuldigung. ' + str(zahl) + ' ist nicht gerade. Versuchen Sie es erneut: '\n",
    "    zahl = int(input(meldung))\n",
    "print('Die gerade Zahl lautet =', zahl)"
   ]
  },
  {
   "cell_type": "markdown",
   "metadata": {
    "collapsed": false
   },
   "source": [
    "### Aufgabe\n",
    "Schreiben Sie eine Schleife, die drei mal das Wort \"Hurra\" ausgibt.\n",
    "\n",
    "=> Welche Art von Schleife verwenden Sie? Eine For-Schleife, oder eine While-Schleife?\n",
    "=> Gibt es mehrere Möglichkeiten?"
   ]
  },
  {
   "cell_type": "code",
   "execution_count": 16,
   "metadata": {
    "collapsed": false
   },
   "outputs": [
    {
     "name": "stdout",
     "output_type": "stream",
     "text": [
      "Hurra\n",
      "Hurra\n",
      "Hurra\n"
     ]
    }
   ],
   "source": [
    "# Schreiben Sie eine Schleife, die dreimal das Wort \"Hurra\" ausgibt.\n",
    "# Gibt es mehrere Möglichkeiten?\n",
    "var_1 = 0\n",
    "\n",
    "while var_1 < 3:\n",
    "    var_1 = var_1 + 1\n",
    "    print(\"Hurra\")\n"
   ]
  }
 ],
 "metadata": {
  "kernelspec": {
   "display_name": "Python 3",
   "language": "python",
   "name": "python3"
  },
  "language_info": {
   "codemirror_mode": {
    "name": "ipython",
    "version": 3
   },
   "file_extension": ".py",
   "mimetype": "text/x-python",
   "name": "python",
   "nbconvert_exporter": "python",
   "pygments_lexer": "ipython3",
   "version": "3.12.1"
  }
 },
 "nbformat": 4,
 "nbformat_minor": 0
}
